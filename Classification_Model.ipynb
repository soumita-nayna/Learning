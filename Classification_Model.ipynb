{
 "cells": [
  {
   "cell_type": "code",
   "execution_count": 168,
   "metadata": {},
   "outputs": [],
   "source": [
    "#pip install graphviz\n",
    "import pandas as pd\n",
    "import numpy as np\n",
    "import graphviz\n",
    "from sklearn.tree import DecisionTreeClassifier # Import Decision Tree Classifier\n",
    "from sklearn.model_selection import train_test_split # Import train_test_split function\n",
    "from sklearn import metrics #Import scikit-learn metrics module for accuracy calculation\n",
    "from matplotlib import pyplot as plt\n",
    "from sklearn.metrics import auc, classification_report, confusion_matrix, roc_curve\n",
    "from sklearn.metrics import roc_auc_score"
   ]
  },
  {
   "cell_type": "code",
   "execution_count": 87,
   "metadata": {},
   "outputs": [],
   "source": [
    "path = \"/Users/z0039kb/Documents/Projects/Stores/Mechanical_Shrink/output/cutveg_training/model_results/\""
   ]
  },
  {
   "cell_type": "code",
   "execution_count": 88,
   "metadata": {},
   "outputs": [],
   "source": [
    "data_import = pd.read_excel(path+\"cutveg_training_model_results.xlsx\",sheet_name = \"train_data\")"
   ]
  },
  {
   "cell_type": "code",
   "execution_count": 133,
   "metadata": {},
   "outputs": [
    {
     "data": {
      "text/html": [
       "<div>\n",
       "<style scoped>\n",
       "    .dataframe tbody tr th:only-of-type {\n",
       "        vertical-align: middle;\n",
       "    }\n",
       "\n",
       "    .dataframe tbody tr th {\n",
       "        vertical-align: top;\n",
       "    }\n",
       "\n",
       "    .dataframe thead th {\n",
       "        text-align: right;\n",
       "    }\n",
       "</style>\n",
       "<table border=\"1\" class=\"dataframe\">\n",
       "  <thead>\n",
       "    <tr style=\"text-align: right;\">\n",
       "      <th></th>\n",
       "      <th>Yactual</th>\n",
       "      <th>YPredicted</th>\n",
       "      <th>Prob1</th>\n",
       "      <th>Prob2</th>\n",
       "      <th>co_loc_i</th>\n",
       "      <th>mdse_item_i</th>\n",
       "      <th>my_order</th>\n",
       "      <th>adj_appl_d</th>\n",
       "      <th>acct_wk_n</th>\n",
       "      <th>shrink_q</th>\n",
       "      <th>...</th>\n",
       "      <th>strreq_prcs_rat</th>\n",
       "      <th>totpush_totprcs_rat</th>\n",
       "      <th>mdshrtdtpush_totprcs_rat</th>\n",
       "      <th>mnshrtdtpush_totprcs_rat</th>\n",
       "      <th>shrtdtpush_totprcs_rat</th>\n",
       "      <th>snslpush_totprcs_rat</th>\n",
       "      <th>promopush_totprcs_rat</th>\n",
       "      <th>otherpush_totprcs_rat</th>\n",
       "      <th>leave_id</th>\n",
       "      <th>tag</th>\n",
       "    </tr>\n",
       "  </thead>\n",
       "  <tbody>\n",
       "    <tr>\n",
       "      <th>0</th>\n",
       "      <td>0</td>\n",
       "      <td>0</td>\n",
       "      <td>0.947332</td>\n",
       "      <td>0.052668</td>\n",
       "      <td>437</td>\n",
       "      <td>1773041</td>\n",
       "      <td>4</td>\n",
       "      <td>2019-08-14</td>\n",
       "      <td>Aug Week 28</td>\n",
       "      <td>0</td>\n",
       "      <td>...</td>\n",
       "      <td>0.0</td>\n",
       "      <td>0.0</td>\n",
       "      <td>0.0</td>\n",
       "      <td>0.0</td>\n",
       "      <td>0.0</td>\n",
       "      <td>0.0</td>\n",
       "      <td>0</td>\n",
       "      <td>0</td>\n",
       "      <td>16</td>\n",
       "      <td>0</td>\n",
       "    </tr>\n",
       "  </tbody>\n",
       "</table>\n",
       "<p>1 rows × 36 columns</p>\n",
       "</div>"
      ],
      "text/plain": [
       "   Yactual  YPredicted     Prob1     Prob2  co_loc_i  mdse_item_i  my_order  \\\n",
       "0        0           0  0.947332  0.052668       437      1773041         4   \n",
       "\n",
       "  adj_appl_d    acct_wk_n  shrink_q  ...  strreq_prcs_rat totpush_totprcs_rat  \\\n",
       "0 2019-08-14  Aug Week 28         0  ...              0.0                 0.0   \n",
       "\n",
       "  mdshrtdtpush_totprcs_rat  mnshrtdtpush_totprcs_rat  shrtdtpush_totprcs_rat  \\\n",
       "0                      0.0                       0.0                     0.0   \n",
       "\n",
       "   snslpush_totprcs_rat  promopush_totprcs_rat  otherpush_totprcs_rat  \\\n",
       "0                   0.0                      0                      0   \n",
       "\n",
       "   leave_id  tag  \n",
       "0        16    0  \n",
       "\n",
       "[1 rows x 36 columns]"
      ]
     },
     "execution_count": 133,
     "metadata": {},
     "output_type": "execute_result"
    }
   ],
   "source": [
    "data_import[:1]"
   ]
  },
  {
   "cell_type": "code",
   "execution_count": 89,
   "metadata": {},
   "outputs": [],
   "source": [
    "data_import['tag'] = data_import['Yactual'].replace(-1,1)"
   ]
  },
  {
   "cell_type": "code",
   "execution_count": 90,
   "metadata": {},
   "outputs": [],
   "source": [
    "from sklearn.datasets import load_iris\n",
    "from sklearn import tree"
   ]
  },
  {
   "cell_type": "code",
   "execution_count": 91,
   "metadata": {},
   "outputs": [],
   "source": [
    "x_cols = ['fut_bal_2_rat', 'fut_bal_3_rat',\n",
    "       'median_ord_7r_rat', 'median_lor_7r_rat', 'median_owb_7_rat',\n",
    "       'median_ord_14r_rat', 'median_lor_14r_rat', 'days_sup_lor_rat',\n",
    "       'pre_rec_amt_rat']"
   ]
  },
  {
   "cell_type": "code",
   "execution_count": 200,
   "metadata": {},
   "outputs": [],
   "source": [
    "X = data_import[x_cols]\n",
    "y = data_import.tag"
   ]
  },
  {
   "cell_type": "code",
   "execution_count": 201,
   "metadata": {},
   "outputs": [
    {
     "data": {
      "text/html": [
       "<div>\n",
       "<style scoped>\n",
       "    .dataframe tbody tr th:only-of-type {\n",
       "        vertical-align: middle;\n",
       "    }\n",
       "\n",
       "    .dataframe tbody tr th {\n",
       "        vertical-align: top;\n",
       "    }\n",
       "\n",
       "    .dataframe thead th {\n",
       "        text-align: right;\n",
       "    }\n",
       "</style>\n",
       "<table border=\"1\" class=\"dataframe\">\n",
       "  <thead>\n",
       "    <tr style=\"text-align: right;\">\n",
       "      <th></th>\n",
       "      <th>fut_bal_2_rat</th>\n",
       "      <th>fut_bal_3_rat</th>\n",
       "      <th>median_ord_7r_rat</th>\n",
       "      <th>median_lor_7r_rat</th>\n",
       "      <th>median_owb_7_rat</th>\n",
       "      <th>median_ord_14r_rat</th>\n",
       "      <th>median_lor_14r_rat</th>\n",
       "      <th>days_sup_lor_rat</th>\n",
       "      <th>pre_rec_amt_rat</th>\n",
       "    </tr>\n",
       "  </thead>\n",
       "  <tbody>\n",
       "    <tr>\n",
       "      <th>0</th>\n",
       "      <td>0.0</td>\n",
       "      <td>0.0</td>\n",
       "      <td>1.0</td>\n",
       "      <td>1.142857</td>\n",
       "      <td>1.0</td>\n",
       "      <td>1.0</td>\n",
       "      <td>1.142857</td>\n",
       "      <td>0.428571</td>\n",
       "      <td>0.0</td>\n",
       "    </tr>\n",
       "  </tbody>\n",
       "</table>\n",
       "</div>"
      ],
      "text/plain": [
       "   fut_bal_2_rat  fut_bal_3_rat  median_ord_7r_rat  median_lor_7r_rat  \\\n",
       "0            0.0            0.0                1.0           1.142857   \n",
       "\n",
       "   median_owb_7_rat  median_ord_14r_rat  median_lor_14r_rat  days_sup_lor_rat  \\\n",
       "0               1.0                 1.0            1.142857          0.428571   \n",
       "\n",
       "   pre_rec_amt_rat  \n",
       "0              0.0  "
      ]
     },
     "execution_count": 201,
     "metadata": {},
     "output_type": "execute_result"
    }
   ],
   "source": [
    "X[:1]"
   ]
  },
  {
   "cell_type": "code",
   "execution_count": 192,
   "metadata": {},
   "outputs": [],
   "source": [
    "X_train, X_test, y_train, y_test = train_test_split(X, y, test_size=0.3, stratify = y, random_state=1) # 70% training and 30% test"
   ]
  },
  {
   "cell_type": "code",
   "execution_count": 174,
   "metadata": {},
   "outputs": [],
   "source": [
    "clf = tree.DecisionTreeClassifier()\n",
    "clf = clf.fit(X_train, y_train)\n",
    "y_pred = clf.predict(X_test)"
   ]
  },
  {
   "cell_type": "code",
   "execution_count": 175,
   "metadata": {},
   "outputs": [
    {
     "name": "stdout",
     "output_type": "stream",
     "text": [
      "Accuracy: 0.725494695354048\n"
     ]
    }
   ],
   "source": [
    "print(\"Accuracy:\",metrics.accuracy_score(y_test, y_pred))"
   ]
  },
  {
   "cell_type": "code",
   "execution_count": 176,
   "metadata": {},
   "outputs": [
    {
     "name": "stdout",
     "output_type": "stream",
     "text": [
      "\n",
      "9 features are non-zero...\n",
      "\n",
      "Features\n",
      "   importance             feature\n",
      "0       40.32    days_sup_lor_rat\n",
      "1       14.14   median_lor_7r_rat\n",
      "2       11.54  median_lor_14r_rat\n",
      "3        7.38  median_ord_14r_rat\n",
      "4        7.29    median_owb_7_rat\n",
      "5        6.38       fut_bal_3_rat\n",
      "6        5.43     pre_rec_amt_rat\n",
      "7        4.41       fut_bal_2_rat\n",
      "8        3.10   median_ord_7r_rat\n"
     ]
    }
   ],
   "source": [
    "# Extract feature importance\n",
    "wts        = clf.feature_importances_\n",
    "fimp       = pd.DataFrame({'importance':(wts*100).round(2), 'feature':x_cols})\n",
    "print(\"\\n{0} features are non-zero...\".format((fimp['importance']>0).sum()))\n",
    "print(\"\\nFeatures\")\n",
    "print(fimp[fimp['importance']>0].sort_values('importance', ascending=False).reset_index(drop=True))"
   ]
  },
  {
   "cell_type": "code",
   "execution_count": 170,
   "metadata": {},
   "outputs": [
    {
     "name": "stdout",
     "output_type": "stream",
     "text": [
      "Train Confusion Matrix\n",
      "[[100219   9463]\n",
      " [  8954  54231]]\n",
      "              precision    recall  f1-score   support\n",
      "\n",
      "           0       0.92      0.91      0.92    109682\n",
      "           1       0.85      0.86      0.85     63185\n",
      "\n",
      "    accuracy                           0.89    172867\n",
      "   macro avg       0.88      0.89      0.89    172867\n",
      "weighted avg       0.89      0.89      0.89    172867\n",
      "\n",
      "Test Confusion Matrix\n",
      "[[45542  1465]\n",
      " [ 3856 23223]]\n",
      "              precision    recall  f1-score   support\n",
      "\n",
      "           0       0.92      0.97      0.94     47007\n",
      "           1       0.94      0.86      0.90     27079\n",
      "\n",
      "    accuracy                           0.93     74086\n",
      "   macro avg       0.93      0.91      0.92     74086\n",
      "weighted avg       0.93      0.93      0.93     74086\n",
      "\n",
      "ROC AUC: 0.93\n"
     ]
    }
   ],
   "source": [
    "# Classify train, test, and all records\n",
    "Ytrnpred = clf.predict(X_train)\n",
    "Ytstpred = clf.predict(X_test)\n",
    "#Yallpred = mdl.predict(Xall)\n",
    "\n",
    "#adding the probability for each datapoint\n",
    "prob_train = clf.predict_proba(X_train)\n",
    "\n",
    "# Evaluate Model\n",
    "print(\"Train Confusion Matrix\")\n",
    "print(confusion_matrix(y_train, Ytrnpred, labels=[0, 1]))\n",
    "print(classification_report(y_train, Ytrnpred, labels=[0, 1]))\n",
    "\n",
    "print(\"Test Confusion Matrix\")\n",
    "print(confusion_matrix(y_test, Ytstpred, labels=[0, 1]))\n",
    "print(classification_report(y_test, Ytstpred, labels=[0, 1]))\n",
    "\n",
    "dt_roc_auc = roc_auc_score(y_test, clf.predict_proba(X_test)[:,1])\n",
    "print('ROC AUC: %0.2f' % dt_roc_auc)"
   ]
  },
  {
   "cell_type": "code",
   "execution_count": 172,
   "metadata": {},
   "outputs": [
    {
     "data": {
      "image/png": "[encoded data removed]",
      "text/plain": [
       "<Figure size 432x288 with 1 Axes>"
      ]
     },
     "metadata": {
      "needs_background": "light"
     },
     "output_type": "display_data"
    }
   ],
   "source": [
    "fpr, tpr, thresholds = roc_curve(y_test,  clf.predict_proba(X_test)[:,1])\n",
    "plt.figure()\n",
    "plt.plot(fpr, tpr, label='Decision Tree (area = %0.2f)' % dt_roc_auc)\n",
    "plt.plot([0, 1], [0, 1],'r--')\n",
    "plt.xlim([0.0, 1.0])\n",
    "plt.ylim([0.0, 1.05])\n",
    "plt.xlabel('False Positive Rate')\n",
    "plt.ylabel('True Positive Rate')\n",
    "plt.title('Receiver operating characteristic')\n",
    "plt.legend(loc=\"lower right\")\n",
    "plt.savefig('Log_ROC')\n",
    "plt.show()"
   ]
  },
  {
   "cell_type": "code",
   "execution_count": 104,
   "metadata": {},
   "outputs": [],
   "source": [
    "export_graphviz(clf,\n",
    "                out_file      = '/Users/z0039kb/Documents/Projects/Stores/Mechanical_Shrink/output/cutveg_training/model_results/dtree_test.dot',\n",
    "                feature_names = x_cols,\n",
    "                class_names   = ['0', '1'],\n",
    "                node_ids      = True,\n",
    "                filled        = True,\n",
    "                rounded       = True,\n",
    "                rotate        = True,\n",
    "                proportion    = True,\n",
    "                precision     = 3)"
   ]
  },
  {
   "cell_type": "code",
   "execution_count": 134,
   "metadata": {},
   "outputs": [],
   "source": [
    "def iv_woe(data, target, bins=10, show_woe=False):\n",
    "    \n",
    "    #Empty Dataframe\n",
    "    newDF,woeDF = pd.DataFrame(), pd.DataFrame()\n",
    "    \n",
    "    #Extract Column Names\n",
    "    cols = data.columns\n",
    "    \n",
    "    #Run WOE and IV on all the independent variables\n",
    "    for ivars in cols[~cols.isin([target])]:\n",
    "        if (data[ivars].dtype.kind in 'bifc') and (len(np.unique(data[ivars]))>10):\n",
    "            binned_x = pd.qcut(data[ivars], bins,  duplicates='drop')\n",
    "            d0 = pd.DataFrame({'x': binned_x, 'y': data[target]})\n",
    "        else:\n",
    "            d0 = pd.DataFrame({'x': data[ivars], 'y': data[target]})\n",
    "        d = d0.groupby(\"x\", as_index=False).agg({\"y\": [\"count\", \"sum\"]})\n",
    "        d.columns = ['Cutoff', 'N', 'Events']\n",
    "        d['% of Events'] = np.maximum(d['Events'], 0.5) / d['Events'].sum()\n",
    "        d['Non-Events'] = d['N'] - d['Events']\n",
    "        d['% of Non-Events'] = np.maximum(d['Non-Events'], 0.5) / d['Non-Events'].sum()\n",
    "        d['WoE'] = np.log(d['% of Events']/d['% of Non-Events'])\n",
    "        d['IV'] = d['WoE'] * (d['% of Events'] - d['% of Non-Events'])\n",
    "        d.insert(loc=0, column='Variable', value=ivars)\n",
    "        print(\"Information value of \" + ivars + \" is \" + str(round(d['IV'].sum(),6)))\n",
    "        temp =pd.DataFrame({\"Variable\" : [ivars], \"IV\" : [d['IV'].sum()]}, columns = [\"Variable\", \"IV\"])\n",
    "        newDF=pd.concat([newDF,temp], axis=0)\n",
    "        woeDF=pd.concat([woeDF,d], axis=0)\n",
    "\n",
    "        #Show WOE Table\n",
    "        if show_woe == True:\n",
    "            print(d)\n",
    "    return newDF, woeDF"
   ]
  },
  {
   "cell_type": "code",
   "execution_count": 148,
   "metadata": {},
   "outputs": [
    {
     "name": "stdout",
     "output_type": "stream",
     "text": [
      "410 ms ± 7.53 ms per loop (mean ± std. dev. of 7 runs, 1 loop each)\n"
     ]
    }
   ],
   "source": [
    "%timeit div_wh(22000000,3)"
   ]
  },
  {
   "cell_type": "code",
   "execution_count": 149,
   "metadata": {},
   "outputs": [],
   "source": [
    "def div(num,den):\n",
    "    a = int(num/den)\n",
    "    op = num - (den*a\n",
    "    return op"
   ]
  },
  {
   "cell_type": "code",
   "execution_count": 150,
   "metadata": {},
   "outputs": [
    {
     "name": "stdout",
     "output_type": "stream",
     "text": [
      "260 ns ± 9.11 ns per loop (mean ± std. dev. of 7 runs, 1000000 loops each)\n"
     ]
    }
   ],
   "source": [
    "%timeit div(22000000,3)"
   ]
  },
  {
   "cell_type": "code",
   "execution_count": 156,
   "metadata": {},
   "outputs": [],
   "source": [
    "def fac(n):\n",
    "    op = 1\n",
    "    if n>0:\n",
    "        op = n*fac(n-1)\n",
    "    return op"
   ]
  },
  {
   "cell_type": "code",
   "execution_count": 157,
   "metadata": {},
   "outputs": [
    {
     "data": {
      "text/plain": [
       "120"
      ]
     },
     "execution_count": 157,
     "metadata": {},
     "output_type": "execute_result"
    }
   ],
   "source": [
    "fac(5)"
   ]
  },
  {
   "cell_type": "code",
   "execution_count": 158,
   "metadata": {},
   "outputs": [],
   "source": [
    "def calculate_woe_iv(dataset, feature, target):\n",
    "    '''\n",
    "    Calculates the WOE and IV\n",
    "    Returns (1) a dataframe with values in a column and WOE value\n",
    "    Returns (2) final IV value\n",
    "    '''\n",
    "    lst = []\n",
    "    for i in range(dataset[feature].nunique()):\n",
    "        val = list(dataset[feature].unique())[i]\n",
    "        lst.append({\n",
    "            'Value': val,\n",
    "            'All': dataset[dataset[feature] == val].count()[feature],\n",
    "            'Good': dataset[(dataset[feature] == val) & (dataset[target] == 0)].count()[feature],\n",
    "            'Bad': dataset[(dataset[feature] == val) & (dataset[target] == 1)].count()[feature]\n",
    "        })\n",
    "        \n",
    "    dset = pd.DataFrame(lst)\n",
    "    dset['Distr_Good'] = dset['Good'] / dset['Good'].sum()\n",
    "    dset['Distr_Bad'] = dset['Bad'] / dset['Bad'].sum()\n",
    "    dset['WoE'] = np.log(dset['Distr_Good'] / dset['Distr_Bad'])\n",
    "    dset = dset.replace({'WoE': {np.inf: 0, -np.inf: 0}})\n",
    "    dset['IV'] = (dset['Distr_Good'] - dset['Distr_Bad']) * dset['WoE']\n",
    "    iv = dset['IV'].sum()\n",
    "    #print(dset)\n",
    "    dset = dset.sort_values(by='WoE')    \n",
    "    return dset, iv"
   ]
  },
  {
   "cell_type": "code",
   "execution_count": 166,
   "metadata": {},
   "outputs": [
    {
     "name": "stdout",
     "output_type": "stream",
     "text": [
      "WoE and IV for column: fut_bal_2_rat\n"
     ]
    },
    {
     "name": "stderr",
     "output_type": "stream",
     "text": [
      "/Users/z0039kb/anaconda3/lib/python3.7/site-packages/pandas/core/series.py:679: RuntimeWarning: divide by zero encountered in log\n",
      "  result = getattr(ufunc, method)(*inputs, **kwargs)\n"
     ]
    },
    {
     "name": "stdout",
     "output_type": "stream",
     "text": [
      "          Value    All   Good  Bad  Distr_Good  Distr_Bad       WoE        IV\n",
      "790    0.838710      7      1    6    0.000006   0.000066 -2.343284  0.000141\n",
      "729    0.717949      5      1    4    0.000006   0.000044 -1.937819  0.000074\n",
      "689    0.405405      5      1    4    0.000006   0.000044 -1.937819  0.000074\n",
      "202    0.864865      5      1    4    0.000006   0.000044 -1.937819  0.000074\n",
      "393    0.701299      5      1    4    0.000006   0.000044 -1.937819  0.000074\n",
      "..          ...    ...    ...  ...         ...        ...       ...       ...\n",
      "503    0.120000      9      8    1    0.000051   0.000011  1.527917  0.000061\n",
      "55     0.148148      9      8    1    0.000051   0.000011  1.527917  0.000061\n",
      "214    0.100000      9      8    1    0.000051   0.000011  1.527917  0.000061\n",
      "447    0.179104     11     10    1    0.000064   0.000011  1.751061  0.000092\n",
      "13  -100.000000  16376  15566  810    0.099343   0.008974  2.404286  0.217274\n",
      "\n",
      "[1276 rows x 8 columns]\n",
      "IV score: 0.32\n",
      "\n",
      "\n",
      "WoE and IV for column: fut_bal_3_rat\n"
     ]
    },
    {
     "name": "stderr",
     "output_type": "stream",
     "text": [
      "/Users/z0039kb/anaconda3/lib/python3.7/site-packages/pandas/core/series.py:679: RuntimeWarning: divide by zero encountered in log\n",
      "  result = getattr(ufunc, method)(*inputs, **kwargs)\n"
     ]
    },
    {
     "name": "stdout",
     "output_type": "stream",
     "text": [
      "           Value    All   Good  Bad  Distr_Good  Distr_Bad       WoE        IV\n",
      "875     0.838710      7      1    6    0.000006   0.000066 -2.343284  0.000141\n",
      "924     0.741573      7      1    6    0.000006   0.000066 -2.343284  0.000141\n",
      "1158    0.831683      6      1    5    0.000006   0.000055 -2.160962  0.000106\n",
      "677     0.420000      5      1    4    0.000006   0.000044 -1.937819  0.000074\n",
      "762     0.433735      5      1    4    0.000006   0.000044 -1.937819  0.000074\n",
      "...          ...    ...    ...  ...         ...        ...       ...       ...\n",
      "349     0.246575      8      7    1    0.000045   0.000011  1.394386  0.000047\n",
      "387     0.423529     10      9    1    0.000057   0.000011  1.645700  0.000076\n",
      "120     0.795181     10      9    1    0.000057   0.000011  1.645700  0.000076\n",
      "233     0.100000     14     13    1    0.000083   0.000011  2.013425  0.000145\n",
      "14   -100.000000  16376  15566  810    0.099343   0.008974  2.404286  0.217274\n",
      "\n",
      "[1425 rows x 8 columns]\n",
      "IV score: 0.34\n",
      "\n",
      "\n",
      "WoE and IV for column: median_ord_7r_rat\n"
     ]
    },
    {
     "name": "stderr",
     "output_type": "stream",
     "text": [
      "/Users/z0039kb/anaconda3/lib/python3.7/site-packages/pandas/core/series.py:679: RuntimeWarning: divide by zero encountered in log\n",
      "  result = getattr(ufunc, method)(*inputs, **kwargs)\n"
     ]
    },
    {
     "name": "stdout",
     "output_type": "stream",
     "text": [
      "         Value  All  Good  Bad  Distr_Good  Distr_Bad       WoE        IV\n",
      "131  11.000000   39     2   37    0.000013   0.000410 -3.469295  0.001378\n",
      "116  14.000000   18     1   17    0.000006   0.000188 -3.384738  0.000616\n",
      "65    9.000000  101     7   94    0.000045   0.001041 -3.148909  0.003139\n",
      "43    5.333333   14     1   13    0.000006   0.000144 -3.116474  0.000429\n",
      "115  13.000000   21     2   19    0.000013   0.000210 -2.802816  0.000554\n",
      "..         ...  ...   ...  ...         ...        ...       ...       ...\n",
      "82    0.125000   27    24    3    0.000153   0.000033  1.527917  0.000183\n",
      "86    0.888889   13    12    1    0.000077   0.000011  1.933382  0.000127\n",
      "77    0.714286   19    18    1    0.000115   0.000011  2.338848  0.000243\n",
      "81    1.125000   20    19    1    0.000121   0.000011  2.392915  0.000264\n",
      "61    0.428571   25    24    1    0.000153   0.000011  2.626530  0.000373\n",
      "\n",
      "[224 rows x 8 columns]\n",
      "IV score: 0.21\n",
      "\n",
      "\n",
      "WoE and IV for column: median_lor_7r_rat\n"
     ]
    },
    {
     "name": "stderr",
     "output_type": "stream",
     "text": [
      "/Users/z0039kb/anaconda3/lib/python3.7/site-packages/pandas/core/series.py:679: RuntimeWarning: divide by zero encountered in log\n",
      "  result = getattr(ufunc, method)(*inputs, **kwargs)\n"
     ]
    },
    {
     "name": "stdout",
     "output_type": "stream",
     "text": [
      "        Value  All  Good  Bad  Distr_Good  Distr_Bad       WoE        IV\n",
      "117  0.100000   16     1   15    0.000006   0.000166 -3.259574  0.000521\n",
      "69   0.000000  363    28  335    0.000179   0.003711 -3.033450  0.010716\n",
      "100  0.125000   52     5   47    0.000032   0.000521 -2.792234  0.001365\n",
      "74   0.461538   37     4   33    0.000026   0.000366 -2.661737  0.000905\n",
      "116  0.466667   15     2   13    0.000013   0.000144 -2.423326  0.000318\n",
      "..        ...  ...   ...  ...         ...        ...       ...       ...\n",
      "63   1.454545   30    28    2    0.000179   0.000022  2.087533  0.000327\n",
      "52   1.857143  408   385   23    0.002457   0.000255  2.266225  0.004991\n",
      "92   2.285714   42    40    2    0.000255   0.000022  2.444208  0.000570\n",
      "49   1.555556  160   153    7    0.000976   0.000078  2.533004  0.002277\n",
      "75   2.333333   31    30    1    0.000191   0.000011  2.849673  0.000514\n",
      "\n",
      "[126 rows x 8 columns]\n",
      "IV score: 0.65\n",
      "\n",
      "\n",
      "WoE and IV for column: median_owb_7_rat\n"
     ]
    },
    {
     "name": "stderr",
     "output_type": "stream",
     "text": [
      "/Users/z0039kb/anaconda3/lib/python3.7/site-packages/pandas/core/series.py:679: RuntimeWarning: divide by zero encountered in log\n",
      "  result = getattr(ufunc, method)(*inputs, **kwargs)\n"
     ]
    },
    {
     "name": "stdout",
     "output_type": "stream",
     "text": [
      "         Value    All   Good    Bad  Distr_Good  Distr_Bad       WoE  \\\n",
      "26    1.285714      6      2      4    0.000013   0.000044 -1.244671   \n",
      "37    1.600000     24      8     16    0.000051   0.000177 -1.244671   \n",
      "9     3.000000   4278   1708   2570    0.010901   0.028472 -0.960107   \n",
      "23    1.142857     32     13     19    0.000083   0.000210 -0.931014   \n",
      "29    2.500000    332    137    195    0.000874   0.002160 -0.904543   \n",
      "35    1.750000     54     23     31    0.000147   0.000343 -0.850017   \n",
      "34    0.875000      9      4      5    0.000026   0.000055 -0.774668   \n",
      "16    1.400000    188     85    103    0.000542   0.001141 -0.743602   \n",
      "24    1.666667   1507    694    813    0.004429   0.009007 -0.709783   \n",
      "3     2.000000  31688  15326  16362    0.097812   0.181268 -0.616935   \n",
      "2     1.500000  17169   8317   8852    0.053080   0.098068 -0.613866   \n",
      "39    2.333333     20     10     10    0.000064   0.000111 -0.551524   \n",
      "38    5.000000      2      1      1    0.000006   0.000011 -0.551524   \n",
      "32    4.000000    431    219    212    0.001398   0.002349 -0.519039   \n",
      "11    1.333333   6681   3509   3172    0.022395   0.035141 -0.450555   \n",
      "14    1.250000   2272   1230   1042    0.007850   0.011544 -0.385652   \n",
      "17    1.200000    671    370    301    0.002361   0.003335 -0.345131   \n",
      "22    1.166667    182    109     73    0.000696   0.000809 -0.150636   \n",
      "13    0.857143     64     39     25    0.000249   0.000277 -0.106838   \n",
      "20    1.125000      8      5      3    0.000032   0.000033 -0.040699   \n",
      "0     1.000000  82938  52449  30489    0.334733   0.337776 -0.009049   \n",
      "44    1.800000      1      0      1    0.000000   0.000011  0.000000   \n",
      "43    0.777778      1      0      1    0.000000   0.000011  0.000000   \n",
      "42    1.428571      1      1      0    0.000006   0.000000  0.000000   \n",
      "41    0.125000      1      1      0    0.000006   0.000000  0.000000   \n",
      "7     0.666667   8903   5899   3004    0.037648   0.033280  0.123314   \n",
      "40    0.888889      3      2      1    0.000013   0.000011  0.141623   \n",
      "10    0.750000   3143   2105   1038    0.013434   0.011500  0.155495   \n",
      "8     0.500000  20183  13881   6302    0.088589   0.069817  0.238130   \n",
      "21    0.200000    174    120     54    0.000766   0.000598  0.246983   \n",
      "15    0.600000    715    494    221    0.003153   0.002448  0.252849   \n",
      "6  -100.000000  29098  20287   8811    0.129473   0.097614  0.282455   \n",
      "5     0.800000   1014    716    298    0.004570   0.003301  0.325062   \n",
      "1     0.333333   4579   3237   1342    0.020659   0.014867  0.328962   \n",
      "33    0.142857      7      5      2    0.000032   0.000022  0.364766   \n",
      "12    0.833333    256    185     71    0.001181   0.000787  0.406152   \n",
      "18    0.400000    427    312    115    0.001991   0.001274  0.446547   \n",
      "25    0.250000    952    701    251    0.004474   0.002781  0.475531   \n",
      "30    0.285714     12      9      3    0.000057   0.000033  0.547088   \n",
      "31    0.428571     23     18      5    0.000115   0.000055  0.729410   \n",
      "28    0.166667     28     22      6    0.000140   0.000066  0.747759   \n",
      "19    0.714286     68     54     14    0.000345   0.000155  0.798402   \n",
      "27    0.571429     35     28      7    0.000179   0.000078  0.834770   \n",
      "4     0.000000  28765  24347   4418    0.155384   0.048945  1.155197   \n",
      "36    0.625000      8      7      1    0.000045   0.000011  1.394386   \n",
      "\n",
      "              IV  \n",
      "26  3.926978e-05  \n",
      "37  1.570791e-04  \n",
      "9   1.687049e-02  \n",
      "23  1.187292e-04  \n",
      "29  1.163230e-03  \n",
      "35  1.671554e-04  \n",
      "34  2.313529e-05  \n",
      "16  4.451360e-04  \n",
      "24  3.249216e-03  \n",
      "3   5.148736e-02  \n",
      "2   2.761674e-02  \n",
      "39  2.590258e-05  \n",
      "38  2.590258e-06  \n",
      "32  4.936023e-04  \n",
      "11  5.743088e-03  \n",
      "14  1.424587e-03  \n",
      "17  3.359155e-04  \n",
      "22  1.703590e-05  \n",
      "13  2.998384e-06  \n",
      "20  5.394589e-08  \n",
      "0   2.753340e-05  \n",
      "44 -0.000000e+00  \n",
      "43 -0.000000e+00  \n",
      "42  0.000000e+00  \n",
      "41  0.000000e+00  \n",
      "7   5.385941e-04  \n",
      "40  2.387089e-07  \n",
      "10  3.008299e-04  \n",
      "8   4.470189e-03  \n",
      "21  4.139520e-05  \n",
      "15  1.780985e-04  \n",
      "6   8.998841e-03  \n",
      "5   4.122229e-04  \n",
      "1   1.905102e-03  \n",
      "33  3.557610e-06  \n",
      "12  1.600649e-04  \n",
      "18  3.202477e-04  \n",
      "25  8.051202e-04  \n",
      "30  1.324105e-05  \n",
      "31  4.338833e-05  \n",
      "28  5.528467e-05  \n",
      "19  1.513221e-04  \n",
      "27  8.443502e-05  \n",
      "4   1.229579e-01  \n",
      "36  4.684561e-05  \n",
      "IV score: 0.25\n",
      "\n",
      "\n",
      "WoE and IV for column: median_ord_14r_rat\n"
     ]
    },
    {
     "name": "stderr",
     "output_type": "stream",
     "text": [
      "/Users/z0039kb/anaconda3/lib/python3.7/site-packages/pandas/core/series.py:679: RuntimeWarning: divide by zero encountered in log\n",
      "  result = getattr(ufunc, method)(*inputs, **kwargs)\n"
     ]
    },
    {
     "name": "stdout",
     "output_type": "stream",
     "text": [
      "         Value  All  Good  Bad  Distr_Good  Distr_Bad       WoE        IV\n",
      "169  13.000000   17     1   16    0.000006   0.000177 -3.324113  0.000568\n",
      "91    9.000000   93     6   87    0.000038   0.000964 -3.225673  0.002986\n",
      "172  14.000000   14     1   13    0.000006   0.000144 -3.116474  0.000429\n",
      "63    7.000000  250    18  232    0.000115   0.002570 -3.107890  0.007631\n",
      "200  11.000000   26     2   24    0.000013   0.000266 -3.036431  0.000769\n",
      "..         ...  ...   ...  ...         ...        ...       ...       ...\n",
      "121   0.125000   17    16    1    0.000102   0.000011  2.221064  0.000202\n",
      "126   0.625000   18    17    1    0.000108   0.000011  2.281689  0.000222\n",
      "89    1.400000   19    18    1    0.000115   0.000011  2.338848  0.000243\n",
      "110   0.375000   25    24    1    0.000153   0.000011  2.626530  0.000373\n",
      "116   0.363636   36    35    1    0.000223   0.000011  3.003824  0.000638\n",
      "\n",
      "[318 rows x 8 columns]\n",
      "IV score: 0.26\n",
      "\n",
      "\n",
      "WoE and IV for column: median_lor_14r_rat\n"
     ]
    },
    {
     "name": "stderr",
     "output_type": "stream",
     "text": [
      "/Users/z0039kb/anaconda3/lib/python3.7/site-packages/pandas/core/series.py:679: RuntimeWarning: divide by zero encountered in log\n",
      "  result = getattr(ufunc, method)(*inputs, **kwargs)\n"
     ]
    },
    {
     "name": "stdout",
     "output_type": "stream",
     "text": [
      "        Value  All  Good  Bad  Distr_Good  Distr_Bad       WoE        IV\n",
      "109  0.100000   24     1   23    0.000006   0.000255 -3.687018  0.000916\n",
      "62   0.000000  363    28  335    0.000179   0.003711 -3.033450  0.010716\n",
      "114  0.090909    8     1    7    0.000006   0.000078 -2.497434  0.000178\n",
      "101  0.461538   43     6   37    0.000038   0.000410 -2.370683  0.000881\n",
      "106  0.111111   28     4   24    0.000026   0.000266 -2.343284  0.000563\n",
      "..        ...  ...   ...  ...         ...        ...       ...       ...\n",
      "57   1.454545   37    34    3    0.000217   0.000033  1.876224  0.000345\n",
      "46   1.555556  223   207   16    0.001321   0.000177  2.008606  0.002298\n",
      "60   2.166667   42    39    3    0.000249   0.000033  2.013425  0.000434\n",
      "43   1.444444  775   720   55    0.004595   0.000609  2.020394  0.008053\n",
      "56   1.857143  327   304   23    0.001940   0.000255  2.030009  0.003421\n",
      "\n",
      "[124 rows x 8 columns]\n",
      "IV score: 0.67\n",
      "\n",
      "\n",
      "WoE and IV for column: days_sup_lor_rat\n"
     ]
    },
    {
     "name": "stderr",
     "output_type": "stream",
     "text": [
      "/Users/z0039kb/anaconda3/lib/python3.7/site-packages/pandas/core/series.py:679: RuntimeWarning: divide by zero encountered in log\n",
      "  result = getattr(ufunc, method)(*inputs, **kwargs)\n"
     ]
    },
    {
     "name": "stdout",
     "output_type": "stream",
     "text": [
      "          Value  All  Good  Bad  Distr_Good  Distr_Bad       WoE        IV\n",
      "7484   2.411111   19     1   18    0.000006   0.000199 -3.441896  0.000664\n",
      "3084   3.718750   33     2   31    0.000013   0.000343 -3.292364  0.001089\n",
      "11640  4.857143   15     1   14    0.000006   0.000155 -3.190582  0.000474\n",
      "12950  2.288462   15     1   14    0.000006   0.000155 -3.190582  0.000474\n",
      "13296  4.222222   13     1   12    0.000006   0.000133 -3.036431  0.000384\n",
      "...         ...  ...   ...  ...         ...        ...       ...       ...\n",
      "2352   0.189189   39    38    1    0.000243   0.000011  3.086062  0.000714\n",
      "3144   0.148148   40    39    1    0.000249   0.000011  3.112037  0.000740\n",
      "1038   0.257895   42    41    1    0.000262   0.000011  3.162048  0.000792\n",
      "872    0.221053   44    43    1    0.000274   0.000011  3.209676  0.000845\n",
      "1732   0.202899   48    47    1    0.000300   0.000011  3.298623  0.000953\n",
      "\n",
      "[19033 rows x 8 columns]\n",
      "IV score: 0.94\n",
      "\n",
      "\n",
      "WoE and IV for column: pre_rec_amt_rat\n",
      "         Value  All  Good  Bad  Distr_Good  Distr_Bad       WoE        IV\n",
      "124   3.555556    5     1    4    0.000006   0.000044 -1.937819  0.000074\n",
      "72    2.222222   19     4   15    0.000026   0.000166 -1.873280  0.000263\n",
      "121  13.714286    8     2    6    0.000013   0.000066 -1.650137  0.000089\n",
      "113  12.750000    4     1    3    0.000006   0.000033 -1.650137  0.000044\n",
      "137  16.666667    7     2    5    0.000013   0.000055 -1.467815  0.000063\n",
      "..         ...  ...   ...  ...         ...        ...       ...       ...\n",
      "42    4.363636   65    53   12    0.000338   0.000133  0.933861  0.000192\n",
      "69    8.181818    6     5    1    0.000032   0.000011  1.057914  0.000022\n",
      "49    5.454545   45    38    7    0.000243   0.000078  1.140152  0.000188\n",
      "56    3.272727  117    99   18    0.000632   0.000199  1.153224  0.000499\n",
      "95    0.727273    7     6    1    0.000038   0.000011  1.240235  0.000034\n",
      "\n",
      "[183 rows x 8 columns]\n",
      "IV score: 0.04\n",
      "\n",
      "\n"
     ]
    },
    {
     "name": "stderr",
     "output_type": "stream",
     "text": [
      "/Users/z0039kb/anaconda3/lib/python3.7/site-packages/pandas/core/series.py:679: RuntimeWarning: divide by zero encountered in log\n",
      "  result = getattr(ufunc, method)(*inputs, **kwargs)\n"
     ]
    }
   ],
   "source": [
    "for col in x_cols:\n",
    "    if col == 'Exited': continue\n",
    "    else:\n",
    "        print('WoE and IV for column: {}'.format(col))\n",
    "        woe_df, iv = calculate_woe_iv(data_import, col, 'tag')\n",
    "        #woe_df_total = pd.merge(bin_desc, woe_df, how='inner', left_on='Tier', right_on='Value')\n",
    "        print(woe_df)\n",
    "        print('IV score: {:.2f}'.format(iv))\n",
    "        print('\\n')"
   ]
  },
  {
   "cell_type": "code",
   "execution_count": 185,
   "metadata": {},
   "outputs": [
    {
     "name": "stdout",
     "output_type": "stream",
     "text": [
      "KFold(n_splits=2, random_state=None, shuffle=False)\n",
      "TRAIN: [2 3] TEST: [0 1]\n",
      "TRAIN: [0 1] TEST: [2 3]\n",
      "KFold(n_splits=3, random_state=None, shuffle=False)\n",
      "TRAIN: [2 3] TEST: [0 1]\n",
      "TRAIN: [0 1 3] TEST: [2]\n",
      "TRAIN: [0 1 2] TEST: [3]\n"
     ]
    }
   ],
   "source": [
    "# importing the required libraries\n",
    "import numpy as np\n",
    "from sklearn.model_selection import KFold\n",
    "\n",
    "'''# create a sample dataset\n",
    "X = np.array([[1, 2, 3, 2],\n",
    "             [3, 4, 1, 1],\n",
    "             [1, 2, 1, 1],\n",
    "             [3, 4, 1, 1]])\n",
    "\n",
    "y = np.array([1, 2, 3, 4])\n",
    "'''\n",
    "X = X_train\n",
    "y = y_train\n",
    "# create the object of the KFold\n",
    "kf = KFold(n_splits=2)\n",
    "\n",
    "print(kf)\n",
    "#KFold(n_splits=2, random_state=None, shuffle=False)\n",
    "\n",
    "for train_index, test_index in kf.split(X):\n",
    "  print(\"TRAIN:\", train_index, \"TEST:\", test_index)    \n",
    "  X_train, X_test = X[train_index], X[test_index]\n",
    "  y_train, y_test = y[train_index], y[test_index]\n",
    "\n",
    "\n",
    "kf = KFold(n_splits=3)\n",
    "print(kf)\n",
    "#KFold(n_splits=3, random_state=None, shuffle=False)\n",
    "for train_index, test_index in kf.split(X):\n",
    "  print(\"TRAIN:\", train_index, \"TEST:\", test_index)    \n",
    "  X_train, X_test = X[train_index], X[test_index]\n",
    "  y_train, y_test = y[train_index], y[test_index]"
   ]
  },
  {
   "cell_type": "markdown",
   "metadata": {},
   "source": [
    "# dt with change in parameter"
   ]
  },
  {
   "cell_type": "code",
   "execution_count": null,
   "metadata": {},
   "outputs": [],
   "source": [
    "dt_params = {'class_weight'      : 'balanced',\n",
    "             'min_impurity_decrease' : 0.0005,\n",
    "             'random_state'          : seedval}\n",
    "'''    \n",
    "    \n",
    "print(\"Seed Value: {}\".format(seedval))\n",
    "\n",
    "print(\"Training Decision Tree with Parameters:\")\n",
    "for item in dt_params.items():\n",
    "    print(item)\n",
    "\n",
    "\n",
    "\n",
    "# Define and Fit Model\n",
    "mdl        = DecisionTreeClassifier(**dt_params)\n",
    "mdl.fit(Xtrn, Ytrn)"
   ]
  },
  {
   "cell_type": "code",
   "execution_count": 202,
   "metadata": {},
   "outputs": [
    {
     "name": "stdout",
     "output_type": "stream",
     "text": [
      "[1]\n"
     ]
    }
   ],
   "source": [
    "from sklearn.ensemble import RandomForestClassifier\n",
    "from sklearn.datasets import make_classification\n",
    "X_rf, y_rf = make_classification(n_samples=1000, n_features=4,\n",
    "                            n_informative=2, n_redundant=0,\n",
    "                            random_state=0, shuffle=False)\n",
    "clf = RandomForestClassifier(max_depth=2, random_state=0)\n",
    "clf.fit(X_rf, y_rf)\n",
    "RandomForestClassifier(...)\n",
    "print(clf.predict([[0, 0, 0, 0]]))"
   ]
  },
  {
   "cell_type": "code",
   "execution_count": 206,
   "metadata": {},
   "outputs": [
    {
     "data": {
      "text/plain": [
       "1000"
      ]
     },
     "execution_count": 206,
     "metadata": {},
     "output_type": "execute_result"
    }
   ],
   "source": [
    "len(y_rf)"
   ]
  },
  {
   "cell_type": "code",
   "execution_count": 213,
   "metadata": {},
   "outputs": [],
   "source": [
    "a = [11,2,35]"
   ]
  },
  {
   "cell_type": "code",
   "execution_count": 214,
   "metadata": {},
   "outputs": [
    {
     "name": "stdout",
     "output_type": "stream",
     "text": [
      "11\n",
      "2\n",
      "35\n"
     ]
    }
   ],
   "source": [
    "for i in a:\n",
    "    print(i)"
   ]
  },
  {
   "cell_type": "code",
   "execution_count": 222,
   "metadata": {},
   "outputs": [],
   "source": [
    "n = 3"
   ]
  },
  {
   "cell_type": "code",
   "execution_count": 224,
   "metadata": {},
   "outputs": [],
   "source": [
    "for i in range((n)):\n",
    "    op = i + (i-1)"
   ]
  },
  {
   "cell_type": "code",
   "execution_count": 238,
   "metadata": {},
   "outputs": [],
   "source": [
    "op = 1\n",
    "def fib(n):\n",
    "    op = 1\n",
    "    if n>1:\n",
    "        op = fib(n-2) +fib(n-1)\n",
    "    return op"
   ]
  },
  {
   "cell_type": "code",
   "execution_count": 241,
   "metadata": {},
   "outputs": [
    {
     "data": {
      "text/plain": [
       "13"
      ]
     },
     "execution_count": 241,
     "metadata": {},
     "output_type": "execute_result"
    }
   ],
   "source": [
    "fib(6)"
   ]
  },
  {
   "cell_type": "code",
   "execution_count": null,
   "metadata": {},
   "outputs": [],
   "source": []
  }
 ],
 "metadata": {
  "kernelspec": {
   "display_name": "Python 3",
   "language": "python",
   "name": "python3"
  },
  "language_info": {
   "codemirror_mode": {
    "name": "ipython",
    "version": 3
   },
   "file_extension": ".py",
   "mimetype": "text/x-python",
   "name": "python",
   "nbconvert_exporter": "python",
   "pygments_lexer": "ipython3",
   "version": "3.7.6"
  }
 },
 "nbformat": 4,
 "nbformat_minor": 4
}
